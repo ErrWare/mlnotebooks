{
 "cells": [
  {
   "cell_type": "code",
   "execution_count": 125,
   "metadata": {},
   "outputs": [
    {
     "name": "stdout",
     "output_type": "stream",
     "text": [
      "done imports\n",
      "/home/sherrware/projects/j_project\n"
     ]
    }
   ],
   "source": [
    "import numpy as np\n",
    "import tensorflow\n",
    "from tensorflow import keras\n",
    "import os\n",
    "print('done imports')\n",
    "\n",
    "print(os.getcwd())"
   ]
  },
  {
   "cell_type": "code",
   "execution_count": 126,
   "metadata": {},
   "outputs": [
    {
     "name": "stdout",
     "output_type": "stream",
     "text": [
      "imgs shape:(60000, 28, 28)\n",
      "imgs dtype:dtype('uint8')\n",
      "labels shape:(60000,)\n",
      "labels dtype:dtype('uint8')\n"
     ]
    }
   ],
   "source": [
    "imgs = np.load('data/kmnist-train-imgs.npz')['arr_0']\n",
    "labels = np.load('data/kmnist-train-labels.npz')['arr_0']\n",
    "\n",
    "print('imgs shape:' + repr(imgs.shape))\n",
    "print('imgs dtype:' + repr(imgs.dtype))\n",
    "\n",
    "print('labels shape:' + repr(labels.shape))\n",
    "print('labels dtype:' + repr(labels.dtype))\n",
    "\n",
    "batch_size = 128\n",
    "num_classes = 10\n",
    "epochs = 12"
   ]
  },
  {
   "cell_type": "code",
   "execution_count": 127,
   "metadata": {},
   "outputs": [
    {
     "name": "stdout",
     "output_type": "stream",
     "text": [
      "[8 7 0 ... 0 7 7]\n",
      "[[0. 0. 0. ... 0. 1. 0.]\n",
      " [0. 0. 0. ... 1. 0. 0.]\n",
      " [1. 0. 0. ... 0. 0. 0.]\n",
      " ...\n",
      " [1. 0. 0. ... 0. 0. 0.]\n",
      " [0. 0. 0. ... 1. 0. 0.]\n",
      " [0. 0. 0. ... 1. 0. 0.]]\n"
     ]
    }
   ],
   "source": [
    "imgs = imgs/255.0\n",
    "\n",
    "x_valid, x_train, = imgs[:5000], imgs[5000:]\n",
    "xcv_valid = x_valid.reshape(list(x_valid.shape) + [1])\n",
    "xcv_train = x_train.reshape(list(x_train.shape) + [1])\n",
    "\n",
    "y_valid, y_train = labels[:5000], labels[5000:]\n",
    "print(y_valid)\n",
    "y_train = keras.utils.to_categorical(y_train, num_classes)\n",
    "y_valid = keras.utils.to_categorical(y_valid, num_classes)\n",
    "print(y_valid)"
   ]
  },
  {
   "cell_type": "code",
   "execution_count": 140,
   "metadata": {},
   "outputs": [],
   "source": [
    "from tensorflow.keras.models import Sequential\n",
    "from tensorflow.keras.layers import Dense, Dropout, Flatten\n",
    "from tensorflow.keras.layers import Conv2D, MaxPooling2D\n",
    "\n",
    "model = Sequential()\n",
    "model.add(Conv2D(32, kernel_size=(3, 3),\n",
    "                 activation='relu',\n",
    "                 input_shape=(28,28,1)))\n",
    "model.add(Conv2D(64, (3, 3), activation='relu'))\n",
    "model.add(MaxPooling2D(pool_size=(2, 2)))\n",
    "model.add(Dropout(0.25))\n",
    "model.add(Flatten())\n",
    "model.add(Dense(128, activation='relu'))\n",
    "model.add(Dropout(0.5))\n",
    "model.add(Dense(num_classes, activation='softmax'))"
   ]
  },
  {
   "cell_type": "code",
   "execution_count": 141,
   "metadata": {},
   "outputs": [],
   "source": [
    "model.compile(loss=\"categorical_crossentropy\",\n",
    "              optimizer=keras.optimizers.Adadelta(),\n",
    "              metrics=[\"accuracy\"])"
   ]
  },
  {
   "cell_type": "code",
   "execution_count": 142,
   "metadata": {},
   "outputs": [
    {
     "name": "stdout",
     "output_type": "stream",
     "text": [
      "Model: \"sequential_32\"\n",
      "_________________________________________________________________\n",
      "Layer (type)                 Output Shape              Param #   \n",
      "=================================================================\n",
      "conv2d_13 (Conv2D)           (None, 28, 28, 32)        1600      \n",
      "_________________________________________________________________\n",
      "max_pooling2d (MaxPooling2D) (None, 14, 14, 32)        0         \n",
      "_________________________________________________________________\n",
      "conv2d_14 (Conv2D)           (None, 14, 14, 64)        18496     \n",
      "_________________________________________________________________\n",
      "conv2d_15 (Conv2D)           (None, 14, 14, 64)        36928     \n",
      "_________________________________________________________________\n",
      "max_pooling2d_1 (MaxPooling2 (None, 7, 7, 64)          0         \n",
      "_________________________________________________________________\n",
      "flatten_32 (Flatten)         (None, 3136)              0         \n",
      "_________________________________________________________________\n",
      "dense_70 (Dense)             (None, 64)                200768    \n",
      "_________________________________________________________________\n",
      "dense_71 (Dense)             (None, 10)                650       \n",
      "=================================================================\n",
      "Total params: 258,442\n",
      "Trainable params: 258,442\n",
      "Non-trainable params: 0\n",
      "_________________________________________________________________\n"
     ]
    }
   ],
   "source": [
    "conv_model.summary()"
   ]
  },
  {
   "cell_type": "code",
   "execution_count": 147,
   "metadata": {},
   "outputs": [
    {
     "name": "stdout",
     "output_type": "stream",
     "text": [
      "Epoch 1/12\n",
      "430/430 [==============================] - 49s 114ms/step - loss: 1.2750 - accuracy: 0.6171 - val_loss: 1.0741 - val_accuracy: 0.7228\n",
      "Epoch 2/12\n",
      "430/430 [==============================] - 57s 132ms/step - loss: 1.2320 - accuracy: 0.6285 - val_loss: 1.0279 - val_accuracy: 0.7300\n",
      "Epoch 3/12\n",
      "430/430 [==============================] - 54s 124ms/step - loss: 1.1884 - accuracy: 0.6410 - val_loss: 0.9866 - val_accuracy: 0.7364\n",
      "Epoch 4/12\n",
      "430/430 [==============================] - 53s 123ms/step - loss: 1.1527 - accuracy: 0.6525 - val_loss: 0.9509 - val_accuracy: 0.7464\n",
      "Epoch 5/12\n",
      "430/430 [==============================] - 50s 116ms/step - loss: 1.1156 - accuracy: 0.6611 - val_loss: 0.9183 - val_accuracy: 0.7530\n",
      "Epoch 6/12\n",
      "430/430 [==============================] - 48s 113ms/step - loss: 1.0933 - accuracy: 0.6675 - val_loss: 0.8906 - val_accuracy: 0.7602\n",
      "Epoch 7/12\n",
      "430/430 [==============================] - 50s 117ms/step - loss: 1.0656 - accuracy: 0.6761 - val_loss: 0.8657 - val_accuracy: 0.7648\n",
      "Epoch 8/12\n",
      "430/430 [==============================] - 48s 112ms/step - loss: 1.0463 - accuracy: 0.6858 - val_loss: 0.8425 - val_accuracy: 0.7688\n",
      "Epoch 9/12\n",
      "430/430 [==============================] - 51s 118ms/step - loss: 1.0172 - accuracy: 0.6937 - val_loss: 0.8215 - val_accuracy: 0.7728\n",
      "Epoch 10/12\n",
      "430/430 [==============================] - 50s 117ms/step - loss: 0.9999 - accuracy: 0.6962 - val_loss: 0.8032 - val_accuracy: 0.7780\n",
      "Epoch 11/12\n",
      "430/430 [==============================] - 50s 116ms/step - loss: 0.9833 - accuracy: 0.7007 - val_loss: 0.7854 - val_accuracy: 0.7818\n",
      "Epoch 12/12\n",
      "430/430 [==============================] - 49s 113ms/step - loss: 0.9642 - accuracy: 0.7094 - val_loss: 0.7701 - val_accuracy: 0.7860\n"
     ]
    }
   ],
   "source": [
    "history = model.fit(xcv_train, y_train,\n",
    "          batch_size=batch_size,\n",
    "          epochs=epochs,\n",
    "          verbose=1,\n",
    "          validation_data=(xcv_valid,y_valid))"
   ]
  },
  {
   "cell_type": "code",
   "execution_count": 149,
   "metadata": {},
   "outputs": [
    {
     "data": {
      "image/png": "[encoded data removed]",
      "text/plain": [
       "<Figure size 576x360 with 1 Axes>"
      ]
     },
     "metadata": {
      "needs_background": "light"
     },
     "output_type": "display_data"
    }
   ],
   "source": [
    "import pandas as pd\n",
    "import matplotlib.pyplot as plt\n",
    "\n",
    "pd.DataFrame(history.history).plot(figsize=(8,5))\n",
    "plt.grid(True)\n",
    "plt.gca().set_ylim(0,1)\n",
    "plt.show()"
   ]
  },
  {
   "cell_type": "code",
   "execution_count": 150,
   "metadata": {},
   "outputs": [],
   "source": [
    "model.save('./goodmodel.h5')"
   ]
  }
 ],
 "metadata": {
  "kernelspec": {
   "display_name": "j_project_kernel",
   "language": "python",
   "name": "j_project_kernel"
  },
  "language_info": {
   "codemirror_mode": {
    "name": "ipython",
    "version": 3
   },
   "file_extension": ".py",
   "mimetype": "text/x-python",
   "name": "python",
   "nbconvert_exporter": "python",
   "pygments_lexer": "ipython3",
   "version": "3.8.5"
  }
 },
 "nbformat": 4,
 "nbformat_minor": 4
}
